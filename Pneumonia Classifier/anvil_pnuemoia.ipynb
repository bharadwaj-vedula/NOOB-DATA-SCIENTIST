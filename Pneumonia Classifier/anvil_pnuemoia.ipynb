{
 "cells": [
  {
   "cell_type": "code",
   "execution_count": 0,
   "metadata": {
    "colab": {
     "base_uri": "https://localhost:8080/",
     "height": 777
    },
    "colab_type": "code",
    "id": "rLdp7wypeIqB",
    "outputId": "c4a6d4c1-9417-42e8-a045-a4255befc54f"
   },
   "outputs": [
    {
     "name": "stdout",
     "output_type": "stream",
     "text": [
      "Collecting anvil-uplink\n",
      "\u001b[?25l  Downloading https://files.pythonhosted.org/packages/c5/64/dd154d877b29491ebd81b675ed48cec7b67a0020b643e0697e5bf92c142f/anvil_uplink-0.3.30-py2.py3-none-any.whl (51kB)\n",
      "\r",
      "\u001b[K     |██████▎                         | 10kB 16.5MB/s eta 0:00:01\r",
      "\u001b[K     |████████████▋                   | 20kB 2.0MB/s eta 0:00:01\r",
      "\u001b[K     |███████████████████             | 30kB 2.8MB/s eta 0:00:01\r",
      "\u001b[K     |█████████████████████████▎      | 40kB 3.1MB/s eta 0:00:01\r",
      "\u001b[K     |███████████████████████████████▋| 51kB 2.5MB/s eta 0:00:01\r",
      "\u001b[K     |████████████████████████████████| 61kB 2.2MB/s \n",
      "\u001b[?25hRequirement already satisfied: six in /usr/local/lib/python3.6/dist-packages (from anvil-uplink) (1.12.0)\n",
      "Collecting argparse\n",
      "  Downloading https://files.pythonhosted.org/packages/f2/94/3af39d34be01a24a6e65433d19e107099374224905f1e0cc6bbe1fd22a2f/argparse-1.4.0-py2.py3-none-any.whl\n",
      "Collecting ws4py\n",
      "\u001b[?25l  Downloading https://files.pythonhosted.org/packages/53/20/4019a739b2eefe9282d3822ef6a225250af964b117356971bd55e274193c/ws4py-0.5.1.tar.gz (51kB)\n",
      "\r",
      "\u001b[K     |██████▍                         | 10kB 17.8MB/s eta 0:00:01\r",
      "\u001b[K     |████████████▊                   | 20kB 24.6MB/s eta 0:00:01\r",
      "\u001b[K     |███████████████████▏            | 30kB 29.8MB/s eta 0:00:01\r",
      "\u001b[K     |█████████████████████████▌      | 40kB 23.5MB/s eta 0:00:01\r",
      "\u001b[K     |███████████████████████████████▉| 51kB 20.3MB/s eta 0:00:01\r",
      "\u001b[K     |████████████████████████████████| 61kB 6.9MB/s \n",
      "\u001b[?25hRequirement already satisfied: future in /usr/local/lib/python3.6/dist-packages (from anvil-uplink) (0.16.0)\n",
      "Building wheels for collected packages: ws4py\n",
      "  Building wheel for ws4py (setup.py) ... \u001b[?25l\u001b[?25hdone\n",
      "  Created wheel for ws4py: filename=ws4py-0.5.1-cp36-none-any.whl size=45215 sha256=0c61dff371a97c9926d72f6847a1a78dcdd96c6e9948639adc630a96c005ac12\n",
      "  Stored in directory: /root/.cache/pip/wheels/a2/6e/4e/8b0ae12fb9b8a05715256952cf7609a8ab86285fab99b88c68\n",
      "Successfully built ws4py\n",
      "Installing collected packages: argparse, ws4py, anvil-uplink\n",
      "Successfully installed anvil-uplink-0.3.30 argparse-1.4.0 ws4py-0.5.1\n"
     ]
    },
    {
     "data": {
      "application/vnd.colab-display-data+json": {
       "pip_warning": {
        "packages": [
         "argparse",
         "google"
        ]
       }
      }
     },
     "metadata": {
      "tags": []
     },
     "output_type": "display_data"
    },
    {
     "name": "stdout",
     "output_type": "stream",
     "text": [
      "Uninstalling Keras-2.3.1:\n",
      "  Would remove:\n",
      "    /usr/local/lib/python3.6/dist-packages/Keras-2.3.1.dist-info/*\n",
      "    /usr/local/lib/python3.6/dist-packages/docs/*\n",
      "    /usr/local/lib/python3.6/dist-packages/keras/*\n",
      "  Would not remove (might be manually added):\n",
      "    /usr/local/lib/python3.6/dist-packages/docs/md_autogen.py\n",
      "    /usr/local/lib/python3.6/dist-packages/docs/update_docs.py\n",
      "Proceed (y/n)? y\n",
      "  Successfully uninstalled Keras-2.3.1\n",
      "Collecting keras==2.2.5\n",
      "\u001b[?25l  Downloading https://files.pythonhosted.org/packages/f8/ba/2d058dcf1b85b9c212cc58264c98a4a7dd92c989b798823cc5690d062bb2/Keras-2.2.5-py2.py3-none-any.whl (336kB)\n",
      "\u001b[K     |████████████████████████████████| 337kB 3.5MB/s \n",
      "\u001b[?25hRequirement already satisfied: pyyaml in /usr/local/lib/python3.6/dist-packages (from keras==2.2.5) (3.13)\n",
      "Requirement already satisfied: numpy>=1.9.1 in /usr/local/lib/python3.6/dist-packages (from keras==2.2.5) (1.18.4)\n",
      "Requirement already satisfied: keras-preprocessing>=1.1.0 in /usr/local/lib/python3.6/dist-packages (from keras==2.2.5) (1.1.2)\n",
      "Requirement already satisfied: keras-applications>=1.0.8 in /usr/local/lib/python3.6/dist-packages (from keras==2.2.5) (1.0.8)\n",
      "Requirement already satisfied: h5py in /usr/local/lib/python3.6/dist-packages (from keras==2.2.5) (2.10.0)\n",
      "Requirement already satisfied: scipy>=0.14 in /usr/local/lib/python3.6/dist-packages (from keras==2.2.5) (1.4.1)\n",
      "Requirement already satisfied: six>=1.9.0 in /usr/local/lib/python3.6/dist-packages (from keras==2.2.5) (1.12.0)\n",
      "Installing collected packages: keras\n",
      "Successfully installed keras-2.2.5\n"
     ]
    }
   ],
   "source": [
    "!pip install anvil-uplink\n",
    "!pip uninstall keras\n",
    "!pip install keras==2.2.5"
   ]
  },
  {
   "cell_type": "code",
   "execution_count": 0,
   "metadata": {
    "colab": {
     "base_uri": "https://localhost:8080/",
     "height": 67
    },
    "colab_type": "code",
    "id": "yDLxXOgNeYNn",
    "outputId": "c239dd65-1ecf-4534-9f1c-b8f799860445"
   },
   "outputs": [
    {
     "name": "stdout",
     "output_type": "stream",
     "text": [
      "Connecting to wss://anvil.works/uplink\n",
      "Anvil websocket open\n",
      "Authenticated OK\n"
     ]
    }
   ],
   "source": [
    "import anvil.server\n",
    "\n",
    "anvil.server.connect(\"\")#enter your uplink key here"
   ]
  },
  {
   "cell_type": "code",
   "execution_count": 0,
   "metadata": {
    "colab": {},
    "colab_type": "code",
    "id": "cXEjlxwSejIl"
   },
   "outputs": [],
   "source": [
    "%tensorflow_version 2.x\n",
    "from tensorflow.keras.models import load_model \n",
    "import numpy as np \n",
    "import pandas as pd \n",
    "from tensorflow.keras.preprocessing.image import img_to_array,load_img\n",
    "from PIL import Image as img\n",
    "from tensorflow.keras.applications.xception import Xception"
   ]
  },
  {
   "cell_type": "code",
   "execution_count": 0,
   "metadata": {
    "colab": {
     "base_uri": "https://localhost:8080/",
     "height": 50
    },
    "colab_type": "code",
    "id": "pY31F0xMepTQ",
    "outputId": "9bfe8c1b-8b48-42a3-c3d5-bcb87fea930f"
   },
   "outputs": [
    {
     "name": "stdout",
     "output_type": "stream",
     "text": [
      "Downloading data from https://storage.googleapis.com/tensorflow/keras-applications/xception/xception_weights_tf_dim_ordering_tf_kernels_notop.h5\n",
      "83689472/83683744 [==============================] - 1s 0us/step\n"
     ]
    }
   ],
   "source": [
    "model=Xception(include_top=False,weights='imagenet',input_shape=(299,299,3))"
   ]
  },
  {
   "cell_type": "code",
   "execution_count": 0,
   "metadata": {
    "colab": {},
    "colab_type": "code",
    "id": "hBVxDnXoezco"
   },
   "outputs": [],
   "source": [
    "model_path=\"/content/drive/My Drive/models/Xception_model.h5\"\n",
    "\n",
    "testing_model=load_model(model_path)"
   ]
  },
  {
   "cell_type": "code",
   "execution_count": 0,
   "metadata": {
    "colab": {},
    "colab_type": "code",
    "id": "bObClXSqi-Wk"
   },
   "outputs": [],
   "source": [
    "import anvil.media\n",
    "\n",
    "@anvil.server.callable\n",
    "def classify_image(file):\n",
    "  with anvil.media.TempFile(file) as filename:\n",
    "    img=load_img(filename,target_size=(224,224))\n",
    "  \n",
    "  \n",
    "  image_arr = img_to_array(img)\n",
    "  image_arr = np.expand_dims(image_arr, axis = 0) \n",
    "  image_arr /= 255.0\n",
    "\n",
    "  \n",
    "  score=testing_model.predict(image_arr)\n",
    "\n",
    "  \n",
    "  return ('NORMAL,  probability:-' if score<0.5 else 'PNEUMONIA,  probability:-', float(score))"
   ]
  },
  {
   "cell_type": "code",
   "execution_count": 0,
   "metadata": {
    "colab": {},
    "colab_type": "code",
    "id": "sBoPwjAEodgT"
   },
   "outputs": [],
   "source": []
  }
 ],
 "metadata": {
  "colab": {
   "collapsed_sections": [],
   "name": "anvil_pnuemoia",
   "provenance": []
  },
  "kernelspec": {
   "display_name": "Python 3",
   "language": "python",
   "name": "python3"
  },
  "language_info": {
   "codemirror_mode": {
    "name": "ipython",
    "version": 3
   },
   "file_extension": ".py",
   "mimetype": "text/x-python",
   "name": "python",
   "nbconvert_exporter": "python",
   "pygments_lexer": "ipython3",
   "version": "3.7.4"
  }
 },
 "nbformat": 4,
 "nbformat_minor": 1
}
