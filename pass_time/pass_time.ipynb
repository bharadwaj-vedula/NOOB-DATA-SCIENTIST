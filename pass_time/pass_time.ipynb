{
 "cells": [
  {
   "cell_type": "code",
   "execution_count": 171,
   "metadata": {},
   "outputs": [
    {
     "name": "stdout",
     "output_type": "stream",
     "text": [
      "['name\\tsub1\\tsub2\\tsub3\\n', 'mony\\t12\\t12\\t14\\n', 'linu\\t45\\t45\\t45\\n', 'tony \\t78\\t78\\t15\\n']\n",
      "['name\\tsub1\\tsub2\\tsub3', 'mony\\t12\\t12\\t14', 'linu\\t45\\t45\\t45', 'tony \\t78\\t78\\t15']\n",
      "[['name', 'sub1', 'sub2', 'sub3'], ['mony', '12', '12', '14'], ['linu', '45', '45', '45'], ['tony ', '78', '78', '15']]\n",
      "[38, 135, 171]\n",
      "[['name', 'sub1', 'sub2', 'sub3', 'total'], ['mony', '12', '12', '14', 38], ['linu', '45', '45', '45', 135], ['tony ', '78', '78', '15', 171]]\n"
     ]
    }
   ],
   "source": [
    "f=open('C:\\\\Users\\\\srinivas\\\\Desktop\\\\rutwik.txt')\n",
    "lines=f.readlines()\n",
    "#print(lines)\n",
    "lines[:] = [line.rstrip('\\n') for line in lines]\n",
    "print(lines)\n",
    "\n",
    "stripped_list=[]\n",
    "int_list=[]\n",
    "int_og_list=[]\n",
    "sum_list=[]\n",
    "\n",
    "for i in range(0,4):\n",
    "    stripped_list.append(lines[i].split('\\t'))\n",
    "print(stripped_list)\n",
    "\n",
    "\n",
    "\n",
    "for i in range(1,4):\n",
    "    int_list=map(int,stripped_list[i][1:])\n",
    "    int_og_list.append((int_list))\n",
    "for i in range(0,3):\n",
    "    sum_list.append(sum(int_og_list[i]))\n",
    "print(sum_list)\n",
    "\n",
    "stripped_list[0].append('total')\n",
    "\n",
    "for i in range(1,4):\n",
    "    stripped_list[i].append(sum_list[i-1])\n",
    "\n",
    "print(stripped_list)\n",
    "\n"
   ]
  },
  {
   "cell_type": "code",
   "execution_count": 170,
   "metadata": {},
   "outputs": [
    {
     "data": {
      "text/plain": [
       "[['name', 'sub1', 'sub2', 'sub3', 'total'],\n",
       " ['mony', '12', '12', '14', 38],\n",
       " ['linu', '45', '45', '45', 135],\n",
       " ['tony ', '78', '78', '15', 171]]"
      ]
     },
     "execution_count": 170,
     "metadata": {},
     "output_type": "execute_result"
    }
   ],
   "source": [
    "stripped_list\n"
   ]
  },
  {
   "cell_type": "markdown",
   "metadata": {},
   "source": [
    "stripped_list[2].append(sum_list[1])\n",
    "stripped_list[3].append(sum_list[2])"
   ]
  },
  {
   "cell_type": "code",
   "execution_count": null,
   "metadata": {},
   "outputs": [],
   "source": []
  }
 ],
 "metadata": {
  "kernelspec": {
   "display_name": "Python 3",
   "language": "python",
   "name": "python3"
  },
  "language_info": {
   "codemirror_mode": {
    "name": "ipython",
    "version": 3
   },
   "file_extension": ".py",
   "mimetype": "text/x-python",
   "name": "python",
   "nbconvert_exporter": "python",
   "pygments_lexer": "ipython3",
   "version": "3.7.4"
  }
 },
 "nbformat": 4,
 "nbformat_minor": 2
}
